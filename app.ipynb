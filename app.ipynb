{
 "cells": [
  {
   "cell_type": "code",
   "execution_count": 1,
   "id": "f8a42b58-cd3a-4e86-9ca7-08e11c762df2",
   "metadata": {},
   "outputs": [
    {
     "name": "stdout",
     "output_type": "stream",
     "text": [
      "이미 크롤링한 레시피이므로 패스\n",
      "이미 크롤링한 레시피이므로 패스\n",
      "이미 크롤링한 레시피이므로 패스\n",
      "이미 크롤링한 레시피이므로 패스\n",
      "이미 크롤링한 레시피이므로 패스\n",
      "이미 크롤링한 레시피이므로 패스\n",
      "이미 크롤링한 레시피이므로 패스\n",
      "이미 크롤링한 레시피이므로 패스\n",
      "이미 크롤링한 레시피이므로 패스\n",
      "이미 크롤링한 레시피이므로 패스\n",
      "이미 크롤링한 레시피이므로 패스\n",
      "이미 크롤링한 레시피이므로 패스\n",
      "이미 크롤링한 레시피이므로 패스\n",
      "이미 크롤링한 레시피이므로 패스\n",
      "이미 크롤링한 레시피이므로 패스\n",
      "이미 크롤링한 레시피이므로 패스\n",
      "이미 크롤링한 레시피이므로 패스\n",
      "이미 크롤링한 레시피이므로 패스\n",
      "이미 크롤링한 레시피이므로 패스\n",
      "이미 크롤링한 레시피이므로 패스\n",
      "이미 크롤링한 레시피이므로 패스\n",
      "이미 크롤링한 레시피이므로 패스\n",
      "이미 크롤링한 레시피이므로 패스\n",
      "이미 크롤링한 레시피이므로 패스\n",
      "이미 크롤링한 레시피이므로 패스\n",
      "이미 크롤링한 레시피이므로 패스\n",
      "이미 크롤링한 레시피이므로 패스\n",
      "이미 크롤링한 레시피이므로 패스\n",
      "이미 크롤링한 레시피이므로 패스\n",
      "이미 크롤링한 레시피이므로 패스\n",
      "이미 크롤링한 레시피이므로 패스\n",
      "이미 크롤링한 레시피이므로 패스\n",
      "이미 크롤링한 레시피이므로 패스\n",
      "이미 크롤링한 레시피이므로 패스\n",
      "이미 크롤링한 레시피이므로 패스\n",
      "이미 크롤링한 레시피이므로 패스\n",
      "이미 크롤링한 레시피이므로 패스\n",
      "이미 크롤링한 레시피이므로 패스\n"
     ]
    }
   ],
   "source": [
    "from app import App\n",
    "import time\n",
    "from selenium.webdriver.common.keys import Keys\n",
    "from selenium.webdriver.common.by import By\n",
    "\n",
    "app = App(\"chromedriver.exe\", load=False)\n",
    "app.run()"
   ]
  },
  {
   "cell_type": "code",
   "execution_count": 1,
   "id": "30258639",
   "metadata": {},
   "outputs": [],
   "source": [
    "from app import App\n",
    "import time\n",
    "\n",
    "\n",
    "from selenium.webdriver.common.keys import Keys\n",
    "from selenium.webdriver.common.by import By\n",
    "from selenium.webdriver.support.ui import WebDriverWait\n",
    "from selenium.webdriver.support import expected_conditions as EC\n",
    "\n",
    "app = App(\"chromedriver.exe\", debug=False)"
   ]
  },
  {
   "cell_type": "code",
   "execution_count": 2,
   "id": "88dd81c2",
   "metadata": {},
   "outputs": [],
   "source": [
    "# 재료 가져오기 테스트\n",
    "\n",
    "app.driver.get('https://www.10000recipe.com/recipe/6988416')\n",
    "temp = app.driver.find_element(By.XPATH, '//*[@id=\"divConfirmedMaterialArea\"]')\n",
    "result = app.getIngredient(temp)\n",
    "print(result)"
   ]
  },
  {
   "cell_type": "code",
   "execution_count": 8,
   "id": "1d818093",
   "metadata": {},
   "outputs": [
    {
     "name": "stdout",
     "output_type": "stream",
     "text": [
      "마라탕\n",
      "1팩\n",
      "1팩\n",
      "마라탕\n",
      "\n"
     ]
    }
   ],
   "source": [
    "# 테스트\n",
    "app.driver.get('https://www.10000recipe.com/recipe/6988419')\n",
    "temp = app.driver.find_element(By.XPATH, '//*[@id=\"divConfirmedMaterialArea\"]/ul[1]/li[1]')\n",
    "child = temp.find_element(By.XPATH, './/*')\n",
    "print(temp.text)\n",
    "print(child.text)\n",
    "\n",
    "print(temp.text.replace(child.text, ''))"
   ]
  },
  {
   "cell_type": "code",
   "execution_count": 14,
   "id": "a0e0107f",
   "metadata": {},
   "outputs": [
    {
     "name": "stdout",
     "output_type": "stream",
     "text": [
      "설_탕________________________________________________________끝\n",
      "설_탕________________________________________________________끝\n"
     ]
    }
   ],
   "source": [
    "import re\n",
    "s = '설_탕                                                        끝'\n",
    "\n",
    "s = s.replace(' ', '_')\n",
    "result = re.sub('\\W+', '', s)\n",
    "\n",
    "print(s)\n",
    "print(result)"
   ]
  },
  {
   "cell_type": "code",
   "execution_count": 9,
   "id": "4bee849c",
   "metadata": {},
   "outputs": [
    {
     "name": "stdout",
     "output_type": "stream",
     "text": [
      "{'name': {'name2': 'hello'}}\n"
     ]
    }
   ],
   "source": [
    "test = {'name': 'hi'}\n",
    "test['name'] = {'name2': 'hello'}\n",
    "\n",
    "test2 = test['name'].copy()\n",
    "test2['name2'] = 'wtf'\n",
    "del test2['name2']\n",
    "print(test)"
   ]
  },
  {
   "cell_type": "code",
   "execution_count": null,
   "id": "9f0f283f",
   "metadata": {},
   "outputs": [],
   "source": []
  }
 ],
 "metadata": {
  "kernelspec": {
   "display_name": "Python 3.6.12 ('selenium')",
   "language": "python",
   "name": "python3"
  },
  "language_info": {
   "codemirror_mode": {
    "name": "ipython",
    "version": 3
   },
   "file_extension": ".py",
   "mimetype": "text/x-python",
   "name": "python",
   "nbconvert_exporter": "python",
   "pygments_lexer": "ipython3",
   "version": "3.6.12"
  },
  "vscode": {
   "interpreter": {
    "hash": "a3c0c714ec6ea0bb06d212d4360841fd4be3d03b58b45e20f6e02dfbdbfa2139"
   }
  }
 },
 "nbformat": 4,
 "nbformat_minor": 5
}
