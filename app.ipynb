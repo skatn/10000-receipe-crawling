{
 "cells": [
  {
   "cell_type": "code",
   "execution_count": 2,
   "id": "f8a42b58-cd3a-4e86-9ca7-08e11c762df2",
   "metadata": {},
   "outputs": [
    {
     "name": "stdout",
     "output_type": "stream",
     "text": [
      "포맷이 다르므로 패스\n",
      "포맷이 다르므로 패스\n",
      "포맷이 다르므로 패스\n",
      "포맷이 다르므로 패스\n",
      "포맷이 다르므로 패스\n"
     ]
    }
   ],
   "source": [
    "from app import App\n",
    "\n",
    "app = App(\"chromedriver.exe\", load=False, startPage=4)\n",
    "app.run()"
   ]
  },
  {
   "cell_type": "code",
   "execution_count": 1,
   "id": "30258639",
   "metadata": {},
   "outputs": [],
   "source": [
    "from app import App\n",
    "import time\n",
    "import re\n",
    "\n",
    "\n",
    "from selenium.webdriver.common.keys import Keys\n",
    "from selenium.webdriver.common.by import By\n",
    "from selenium.webdriver.support.ui import WebDriverWait\n",
    "from selenium.webdriver.support import expected_conditions as EC\n",
    "\n",
    "app = App(\"chromedriver.exe\", debug=False)"
   ]
  },
  {
   "cell_type": "code",
   "execution_count": 2,
   "id": "88dd81c2",
   "metadata": {},
   "outputs": [
    {
     "name": "stdout",
     "output_type": "stream",
     "text": [
      "[{'id': 1, 'name': '장어', 'unit': '1마리'}, {'id': 2, 'name': '밥', 'unit': '400g'}, {'id': 3, 'name': '설탕', 'unit': '3T'}, {'id': 4, 'name': '소금', 'unit': '1T'}, {'id': 5, 'name': '식초', 'unit': '3T'}, {'id': 6, 'name': '생강채', 'unit': '약간'}, {'id': 7, 'name': '식용유', 'unit': ''}, {'id': 8, 'name': '고추냉이', 'unit': '약간'}, {'id': 9, 'name': '청주', 'unit': '약간'}, {'id': 10, 'name': '올리고당', 'unit': '1.5큰술'}, {'id': 11, 'name': '미림', 'unit': '2큰술'}, {'id': 12, 'name': '간장', 'unit': '2큰술'}, {'id': 3, 'name': '설탕', 'unit': '1.5큰술'}, {'id': 13, 'name': '다진마늘', 'unit': '1큰술'}, {'id': 14, 'name': '고추장', 'unit': '1큰술'}, {'id': 15, 'name': '참기름', 'unit': '1큰술'}, {'id': 16, 'name': '고춧가루', 'unit': '1큰술'}, {'id': 17, 'name': '다진 생강', 'unit': '1/2큰술'}]\n"
     ]
    }
   ],
   "source": [
    "# 재료 가져오기 테스트\n",
    "\n",
    "app.driver.get('https://www.10000recipe.com/recipe/6988416')\n",
    "temp = app.driver.find_element(By.XPATH, '//*[@id=\"divConfirmedMaterialArea\"]')\n",
    "result = app.getIngredient(temp)\n",
    "print(result)"
   ]
  },
  {
   "cell_type": "code",
   "execution_count": 8,
   "id": "1d818093",
   "metadata": {},
   "outputs": [
    {
     "name": "stdout",
     "output_type": "stream",
     "text": [
      "\n",
      "\"https://recipe1.ezmember.co.kr/cache/bbs/2015/11/03/9e6e4969a00553972913ef38db9ed285.jpg\"\n"
     ]
    }
   ],
   "source": [
    "# 테스트\n",
    "app.driver.get('https://www.10000recipe.com/recipe/6987220')\n",
    "\n",
    "\n",
    "element = app.driver.find_element(By.XPATH, '//*[@id=\"divConfirmedMaterialArea\"]/ul[1]/li[1]/a[1]')\n",
    "# element = app.driver.find_element(By.XPATH, '//*[@id=\"divConfirmedMaterialArea\"]/ul[2]/li[3]/a[1]')\n",
    "\n",
    "\n",
    "element.send_keys(Keys.ENTER)\n",
    "\n",
    "modal = WebDriverWait(app.driver, 20).until(\n",
    "    EC.visibility_of_element_located((By.XPATH, '//*[@id=\"materialViewModal\"]'))\n",
    ")\n",
    "\n",
    "# //*[@id=\"materialBody\"]/div/div[1]/div[1]\n",
    "img = modal.find_element(By.XPATH, '//*[@id=\"materialBody\"]/div/div[1]/div[1][@class=\"ingredient_pic\"]')\n",
    "# //*[@id=\"materialBody\"]/div/div[1]/div\n",
    "print(img.text)\n",
    "# imgSrc = img.get_attribute('style')\n",
    "# start = imgSrc.find('url(\"')\n",
    "# end = imgSrc.find(')\"')\n",
    "# print(start)\n",
    "# print(end)\n",
    "\n",
    "print(re.split('[()]', img.value_of_css_property('background-image'))[1])"
   ]
  },
  {
   "cell_type": "code",
   "execution_count": 13,
   "id": "9f0f283f",
   "metadata": {},
   "outputs": [
    {
     "name": "stdout",
     "output_type": "stream",
     "text": [
      "d:\\MyProjects\\GIT\\10000-receipe-crawling\\test\n"
     ]
    }
   ],
   "source": [
    "!python test/test.py"
   ]
  },
  {
   "cell_type": "code",
   "execution_count": null,
   "id": "5727bf41",
   "metadata": {},
   "outputs": [],
   "source": []
  }
 ],
 "metadata": {
  "kernelspec": {
   "display_name": "Python 3.6.12 ('selenium')",
   "language": "python",
   "name": "python3"
  },
  "language_info": {
   "codemirror_mode": {
    "name": "ipython",
    "version": 3
   },
   "file_extension": ".py",
   "mimetype": "text/x-python",
   "name": "python",
   "nbconvert_exporter": "python",
   "pygments_lexer": "ipython3",
   "version": "3.6.12"
  },
  "vscode": {
   "interpreter": {
    "hash": "a3c0c714ec6ea0bb06d212d4360841fd4be3d03b58b45e20f6e02dfbdbfa2139"
   }
  }
 },
 "nbformat": 4,
 "nbformat_minor": 5
}
